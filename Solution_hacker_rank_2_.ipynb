{
  "nbformat": 4,
  "nbformat_minor": 0,
  "metadata": {
    "colab": {
      "name": "Solution_hacker_rank_2_.ipynb",
      "provenance": [],
      "authorship_tag": "ABX9TyPpRAmZG5NcyHkagOyTxBFu",
      "include_colab_link": true
    },
    "kernelspec": {
      "name": "python3",
      "display_name": "Python 3"
    },
    "language_info": {
      "name": "python"
    }
  },
  "cells": [
    {
      "cell_type": "markdown",
      "metadata": {
        "id": "view-in-github",
        "colab_type": "text"
      },
      "source": [
        "<a href=\"https://colab.research.google.com/github/VIJAYKANTH-PALAMANDA/VIJAYKANTH-PALAMANDA/blob/main/Solution_hacker_rank_2_.ipynb\" target=\"_parent\"><img src=\"https://colab.research.google.com/assets/colab-badge.svg\" alt=\"Open In Colab\"/></a>"
      ]
    },
    {
      "cell_type": "markdown",
      "metadata": {
        "id": "auv7s8DxBUMc"
      },
      "source": [
        "**Question:-** Given five positive integers, find the minimum and maximum values that can be calculated by summing exactly four of the five integers. Then print the respective minimum and maximum values as a single line of two space-separated long integers.\n",
        "\n",
        "**Input:-** A single line of five space-separated integers.\n",
        "\n",
        "**Output Format:-** Print two space-separated long integers denoting the respective minimum and maximum values that can be calculated by summing exactly four of the five integers. (The output can be greater than a 32 bit integer.)"
      ]
    },
    {
      "cell_type": "code",
      "metadata": {
        "colab": {
          "base_uri": "https://localhost:8080/"
        },
        "id": "ZBp8JjVeBJsy",
        "outputId": "1c13d7ad-1ae8-44ef-9914-657923ebc51b"
      },
      "source": [
        "#!/bin/python3\n",
        "\n",
        "import math\n",
        "import os\n",
        "import random\n",
        "import re\n",
        "import sys\n",
        "\n",
        "def miniMaxSum(arr):\n",
        "    arr.sort()\n",
        "    minimum = arr[0] + arr[1] + arr[2] + arr[3]\n",
        "    maximum = arr[-1] + arr[-2] + arr[-3] + arr[-4]\n",
        "    print (minimum, maximum, sep=\" \")\n",
        "\n",
        "if __name__ == '__main__':\n",
        "\n",
        "    arr = list(map(int, input().rstrip().split()))\n",
        "\n",
        "    miniMaxSum(arr)\n",
        "#!/bin/python3\n",
        "\n",
        "import math\n",
        "import os\n",
        "import random\n",
        "import re\n",
        "import sys\n",
        "\n",
        "def miniMaxSum(arr):\n",
        "    arr.sort()\n",
        "    minimum = arr[0] + arr[1] + arr[2] + arr[3]\n",
        "    maximum = arr[-1] + arr[-2] + arr[-3] + arr[-4]\n",
        "    print (minimum, maximum, sep=\" \")\n",
        "\n",
        "if __name__ == '__main__':\n",
        "\n",
        "    arr = list(map(int, input().rstrip().split()))\n",
        "\n",
        "    miniMaxSum(arr)\n",
        "#All test cases passed..."
      ],
      "execution_count": 1,
      "outputs": [
        {
          "output_type": "stream",
          "name": "stdout",
          "text": [
            "1 2 3 4 5\n",
            "10 14\n",
            "3 5 7 23 54\n",
            "38 89\n"
          ]
        }
      ]
    }
  ]
}