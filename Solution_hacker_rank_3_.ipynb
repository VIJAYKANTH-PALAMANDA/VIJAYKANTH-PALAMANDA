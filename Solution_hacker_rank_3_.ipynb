{
  "nbformat": 4,
  "nbformat_minor": 0,
  "metadata": {
    "colab": {
      "name": "Solution_hacker_rank_3_.ipynb",
      "provenance": [],
      "authorship_tag": "ABX9TyOO1DI8jG6d/vnTftzslkzJ",
      "include_colab_link": true
    },
    "kernelspec": {
      "name": "python3",
      "display_name": "Python 3"
    },
    "language_info": {
      "name": "python"
    }
  },
  "cells": [
    {
      "cell_type": "markdown",
      "metadata": {
        "id": "view-in-github",
        "colab_type": "text"
      },
      "source": [
        "<a href=\"https://colab.research.google.com/github/VIJAYKANTH-PALAMANDA/VIJAYKANTH-PALAMANDA/blob/main/Solution_hacker_rank_3_.ipynb\" target=\"_parent\"><img src=\"https://colab.research.google.com/assets/colab-badge.svg\" alt=\"Open In Colab\"/></a>"
      ]
    },
    {
      "cell_type": "markdown",
      "metadata": {
        "id": "1kArf8kbX79h"
      },
      "source": [
        "**Question:-** Given a time in 12 -hour AM/PM format, convert it to military (24-hour) time.\n",
        "\n",
        "**Note:-**\n",
        "- 12:00:00AM on a 12-hour clock is 00:00:00 on a 24-hour clock.\n",
        "- 12:00:00PM on a 12-hour clock is 12:00:00 on a 24-hour clock. \n",
        "\n",
        "**Input Format:-**\n",
        "A single string *s* that represents a time in 12-hour clock format (i.e.hh:mm:ssAM or hh:mm:ssPM).\n",
        "\n",
        "**Output Format:-** Time in 24-hour format "
      ]
    },
    {
      "cell_type": "code",
      "metadata": {
        "id": "2iKYJ1hVXIRV"
      },
      "source": [
        "#!/bin/python3\n",
        "\n",
        "import math\n",
        "import os\n",
        "import random\n",
        "import re\n",
        "import sys\n",
        "\n",
        "\n",
        "\n",
        "def timeConversion(s):\n",
        "    n = len(s)\n",
        "    x = slice(n-2, n)\n",
        "    Time = s[x]\n",
        "    if Time == \"pm\" or Time == \"PM\":\n",
        "        if s[0:2] == str(12):\n",
        "            s = \"12\" + s[2 : n-2]\n",
        "            return s\n",
        "        Hrs = int(s[0:2]) + 12\n",
        "        s = str(Hrs) + s[2 : n-2]\n",
        "    else:\n",
        "        if s[0:2] == str(12):\n",
        "            s = \"00\" + s[2 : n-2]\n",
        "            return s\n",
        "        s = s[:n-2]\n",
        "    return s\n",
        "\n",
        "if __name__ == '__main__':\n",
        "\n",
        "    s = input()\n",
        "\n",
        "    result = timeConversion(s)\n",
        "    print(result)\n"
      ],
      "execution_count": null,
      "outputs": []
    }
  ]
}