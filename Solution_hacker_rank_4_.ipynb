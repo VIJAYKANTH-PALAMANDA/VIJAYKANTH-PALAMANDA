{
  "nbformat": 4,
  "nbformat_minor": 0,
  "metadata": {
    "colab": {
      "name": "Solution_hacker_rank_4_.ipynb",
      "provenance": [],
      "authorship_tag": "ABX9TyOzqgO8b4VZ8uKXHEB3klu5",
      "include_colab_link": true
    },
    "kernelspec": {
      "name": "python3",
      "display_name": "Python 3"
    },
    "language_info": {
      "name": "python"
    }
  },
  "cells": [
    {
      "cell_type": "markdown",
      "metadata": {
        "id": "view-in-github",
        "colab_type": "text"
      },
      "source": [
        "<a href=\"https://colab.research.google.com/github/VIJAYKANTH-PALAMANDA/VIJAYKANTH-PALAMANDA/blob/main/Solution_hacker_rank_4_.ipynb\" target=\"_parent\"><img src=\"https://colab.research.google.com/assets/colab-badge.svg\" alt=\"Open In Colab\"/></a>"
      ]
    },
    {
      "cell_type": "code",
      "metadata": {
        "colab": {
          "base_uri": "https://localhost:8080/"
        },
        "id": "9hbm2ja9mDA3",
        "outputId": "4488e5ed-7079-4b84-9275-7db5a0836062"
      },
      "source": [
        "#!/bin/python3\n",
        "\n",
        "import math\n",
        "import os\n",
        "import random\n",
        "import re\n",
        "import sys\n",
        "\n",
        "#\n",
        "# Complete the 'lonelyinteger' function below.\n",
        "#\n",
        "# The function is expected to return an INTEGER.\n",
        "# The function accepts INTEGER_ARRAY a as parameter.\n",
        "#\n",
        "\n",
        "def lonelyinteger(a):\n",
        "    for i in range (len(a)):\n",
        "        max = 0\n",
        "        for j in range (len(a)):\n",
        "            if a[i] == a[j] and i != j:\n",
        "                max = max + 1\n",
        "        if max == 0:\n",
        "            return a[i]\n",
        "            \n",
        "\n",
        "if __name__ == '__main__':\n",
        "    n = int(input().strip())\n",
        "\n",
        "    a = list(map(int, input().rstrip().split()))\n",
        "\n",
        "    result = lonelyinteger(a)\n",
        "    print(result)\n"
      ],
      "execution_count": 9,
      "outputs": [
        {
          "output_type": "stream",
          "name": "stdout",
          "text": [
            "3\n",
            "1 1 2\n",
            "2\n"
          ]
        }
      ]
    }
  ]
}