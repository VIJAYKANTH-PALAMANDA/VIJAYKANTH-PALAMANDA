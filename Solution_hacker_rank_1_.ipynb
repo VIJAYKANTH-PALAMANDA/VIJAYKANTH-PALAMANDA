{
  "nbformat": 4,
  "nbformat_minor": 0,
  "metadata": {
    "colab": {
      "name": "Solution_hacker_rank_1 .ipynb",
      "provenance": [],
      "authorship_tag": "ABX9TyMllagHFIgk/2193biHVsHE",
      "include_colab_link": true
    },
    "kernelspec": {
      "name": "python3",
      "display_name": "Python 3"
    },
    "language_info": {
      "name": "python"
    }
  },
  "cells": [
    {
      "cell_type": "markdown",
      "metadata": {
        "id": "view-in-github",
        "colab_type": "text"
      },
      "source": [
        "<a href=\"https://colab.research.google.com/github/VIJAYKANTH-PALAMANDA/VIJAYKANTH-PALAMANDA/blob/main/Solution_hacker_rank_1_.ipynb\" target=\"_parent\"><img src=\"https://colab.research.google.com/assets/colab-badge.svg\" alt=\"Open In Colab\"/></a>"
      ]
    },
    {
      "cell_type": "markdown",
      "metadata": {
        "id": "w060Y3Io7QuB"
      },
      "source": [
        "**Question:-** Given an array of integers, calculate the ratios of its elements that are positive, negative, and zero. Print the decimal value of each fraction on a new line with 6 places after the decimal.\n",
        "\n",
        "**Input Format:-**\n",
        "The first line contains an integer, **n**, the size of the array.\n",
        "The second line contains **n** space-separated integers that describe **arr[n]**.\n",
        "\n",
        "**Output Format:-**\n",
        "\n",
        "Print the following 3 lines, each to 6 decimals:\n",
        "\n",
        "    1. proportion of positive values\n",
        "    2. proportion of negative values\n",
        "    3. proportion of zeros\n",
        "\n"
      ]
    },
    {
      "cell_type": "code",
      "metadata": {
        "colab": {
          "base_uri": "https://localhost:8080/"
        },
        "id": "xocr18aw6W_U",
        "outputId": "54286941-475c-4741-a434-9940773d7116"
      },
      "source": [
        "#!/bin/python3\n",
        "\n",
        "import math\n",
        "import os\n",
        "import random\n",
        "import re\n",
        "import sys\n",
        "\n",
        "#\n",
        "# Complete the 'plusMinus' function below.\n",
        "#\n",
        "# The function accepts INTEGER_ARRAY arr as parameter.\n",
        "#\n",
        "\n",
        "def plusMinus(arr,n):\n",
        "    Zeroes = 0\n",
        "    Positives = 0\n",
        "    Negatives = 0\n",
        "    for item in range (len(arr)):\n",
        "        if arr[item] == 0:\n",
        "            Zeroes = Zeroes + 1\n",
        "        elif arr[item] > 0:\n",
        "            Positives = Positives + 1\n",
        "        else:\n",
        "            Negatives = Negatives + 1\n",
        "    print (round(Positives/n, 6))\n",
        "    print (round(Negatives/n, 6))\n",
        "    print (round(Zeroes/n, 6))\n",
        "            \n",
        "\n",
        "if __name__ == '__main__':\n",
        "    n = int(input().strip())\n",
        "\n",
        "    arr = list(map(int, input().rstrip().split()))\n",
        "\n",
        "    plusMinus(arr,n)\n",
        "\n",
        "#All test cases passed..."
      ],
      "execution_count": 1,
      "outputs": [
        {
          "output_type": "stream",
          "name": "stdout",
          "text": [
            "6\n",
            "-4 3 -9 0 4 1\n",
            "0.5\n",
            "0.333333\n",
            "0.166667\n"
          ]
        }
      ]
    }
  ]
}